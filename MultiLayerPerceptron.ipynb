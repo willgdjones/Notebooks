{
 "cells": [
  {
   "cell_type": "code",
   "execution_count": 1,
   "metadata": {
    "collapsed": false,
    "scrolled": false
   },
   "outputs": [
    {
     "name": "stdout",
     "output_type": "stream",
     "text": [
      "Extracting /tmp/data/train-images-idx3-ubyte.gz\n",
      "Extracting /tmp/data/train-labels-idx1-ubyte.gz\n",
      "Extracting /tmp/data/t10k-images-idx3-ubyte.gz\n",
      "Extracting /tmp/data/t10k-labels-idx1-ubyte.gz\n"
     ]
    }
   ],
   "source": [
    "%reset -f\n",
    "import tensorflow as tf\n",
    "tf.reset_default_graph() \n",
    "from tensorflow.examples.tutorials.mnist import input_data\n",
    "mnist = input_data.read_data_sets(\"/tmp/data/\", one_hot=True)\n",
    "import matplotlib.pylab as plt\n",
    "%matplotlib inline"
   ]
  },
  {
   "cell_type": "markdown",
   "metadata": {
    "collapsed": true
   },
   "source": [
    "What about multiple layers? Now we can easily see the difference. We write a function that define, intermediate layers and the number of hidden units they comprise, aswell as a final layer function. (Now we basically have Keras!)"
   ]
  },
  {
   "cell_type": "code",
   "execution_count": null,
   "metadata": {
    "collapsed": true
   },
   "outputs": [],
   "source": [
    "def next_layer(prev_layer, n_hidden_units):\n",
    "    W = tf.Variable(tf.random_normal([int(prev_layer.get_shape()[1]), n_hidden_units]))\n",
    "    b = tf.Variable(tf.random_normal([1,n_hidden_units]))\n",
    "    return tf.nn.relu(tf.matmul(prev_layer,W) + b)\n",
    "\n",
    "def final_layer(prev_layer):\n",
    "    W = tf.Variable(tf.random_normal([int(prev_layer.get_shape()[1]), 10]))\n",
    "    b = tf.Variable(tf.random_normal([1,10]))\n",
    "    return tf.matmul(prev_layer,W) + b\n",
    "\n",
    "hidden_layer1 = next_layer(X, 2000)\n",
    "# hidden_layer2 = next_layer(hidden_layer1, 200)\n",
    "# hidden_layer3 = next_layer(hidden_layer2, 200)\n",
    "y = final_layer(hidden_layer1)"
   ]
  },
  {
   "cell_type": "markdown",
   "metadata": {},
   "source": [
    "What about multiple layers? Now we can easily see the difference. We write a function that define, intermediate layers and the number of hidden units they comprise, aswell as a final layer function. (Now we basically have Keras!)"
   ]
  },
  {
   "cell_type": "code",
   "execution_count": 170,
   "metadata": {
    "collapsed": false
   },
   "outputs": [],
   "source": [
    "def next_layer(prev_layer, n_hidden_units):\n",
    "    W = tf.Variable(tf.random_normal([int(prev_layer.get_shape()[1]), n_hidden_units]))\n",
    "    b = tf.Variable(tf.random_normal([1,n_hidden_units]))\n",
    "    return tf.nn.relu(tf.matmul(prev_layer,W) + b)\n",
    "\n",
    "def final_layer(prev_layer):\n",
    "    W = tf.Variable(tf.random_normal([int(prev_layer.get_shape()[1]), 10]))\n",
    "    b = tf.Variable(tf.random_normal([1,10]))\n",
    "    return tf.matmul(prev_layer,W) + b\n",
    "\n",
    "hidden_layer1 = next_layer(X, 2000)\n",
    "# hidden_layer2 = next_layer(hidden_layer1, 200)\n",
    "# hidden_layer3 = next_layer(hidden_layer2, 200)\n",
    "y = final_layer(hidden_layer1)\n",
    "\n"
   ]
  },
  {
   "cell_type": "markdown",
   "metadata": {},
   "source": [
    "Now we need to change from the `GradientDescentOptimzer` to the `AdamOptimizer`. Otherwise the models is more likely to get stuck."
   ]
  },
  {
   "cell_type": "code",
   "execution_count": 171,
   "metadata": {
    "collapsed": false
   },
   "outputs": [],
   "source": [
    "cost = tf.reduce_sum(tf.nn.softmax_cross_entropy_with_logits(y,Y))\n",
    "optimiser = tf.train.AdamOptimizer(0.01).minimize(cost)\n",
    "accuracy = tf.reduce_mean(tf.cast(tf.equal(tf.arg_max(y,1), tf.arg_max(Y,1)), tf.float32))\n",
    "init = tf.initialize_all_variables()\n",
    "\n",
    "batch_size = 100\n",
    "n_training = len(mnist.train.labels)\n",
    "n_batches = n_training/batch_size\n"
   ]
  },
  {
   "cell_type": "code",
   "execution_count": 173,
   "metadata": {
    "collapsed": false
   },
   "outputs": [
    {
     "name": "stdout",
     "output_type": "stream",
     "text": [
      "Cost: 630.222229004, Accuracy: 0.947000145912\n",
      "Cost: 507.217346191, Accuracy: 0.937100172043\n",
      "Cost: 469.345703125, Accuracy: 0.968900084496\n",
      "Cost: 222.567687988, Accuracy: 0.968500137329\n",
      "Cost: 332.620758057, Accuracy: 0.965100109577\n",
      "Cost: 105.991485596, Accuracy: 0.965200126171\n",
      "Cost: 172.434844971, Accuracy: 0.957500219345\n",
      "Cost: 23.9546813965, Accuracy: 0.973500132561\n",
      "Cost: 14.3141107559, Accuracy: 0.970300137997\n",
      "Cost: 22.2491188049, Accuracy: 0.972500145435\n",
      "Cost: 23.7800292969, Accuracy: 0.969500124454\n",
      "Cost: 4.76837044516e-07, Accuracy: 0.968600094318\n",
      "Cost: 0.0, Accuracy: 0.97100019455\n",
      "Cost: 106.89541626, Accuracy: 0.973200201988\n",
      "Cost: 33.9640464783, Accuracy: 0.97610014677\n",
      "Cost: 0.0, Accuracy: 0.976800084114\n",
      "Cost: 91.8219299316, Accuracy: 0.978000104427\n",
      "Cost: 129.720855713, Accuracy: 0.976900100708\n",
      "Cost: 0.000319668208249, Accuracy: 0.973900139332\n",
      "Cost: 124.104255676, Accuracy: 0.974900126457\n",
      "Cost: 1.23976897157e-05, Accuracy: 0.975800096989\n",
      "Cost: 28.30884552, Accuracy: 0.976600170135\n",
      "Cost: 214.843536377, Accuracy: 0.976700127125\n",
      "Cost: 124.835586548, Accuracy: 0.975000143051\n",
      "Cost: 0.0, Accuracy: 0.979200184345\n",
      "Cost: 0.0, Accuracy: 0.97720015049\n",
      "Cost: 75.0177078247, Accuracy: 0.975500106812\n",
      "Cost: 0.0, Accuracy: 0.975200116634\n",
      "Cost: 0.0, Accuracy: 0.978000044823\n",
      "Cost: 0.0, Accuracy: 0.978300213814\n",
      "Cost: 55.6253356934, Accuracy: 0.977100133896\n",
      "Cost: 0.0, Accuracy: 0.979000151157\n",
      "Cost: 2.70601431112e-05, Accuracy: 0.979000091553\n",
      "Cost: 0.0, Accuracy: 0.976900160313\n",
      "Cost: 0.0, Accuracy: 0.979100167751\n",
      "Cost: 0.0, Accuracy: 0.978900134563\n",
      "Cost: 0.0, Accuracy: 0.981300055981\n",
      "Cost: 87.6818847656, Accuracy: 0.981500148773\n",
      "Cost: 0.000194530643057, Accuracy: 0.977100133896\n",
      "Cost: 0.0, Accuracy: 0.979600131512\n",
      "Cost: 0.0, Accuracy: 0.980200111866\n",
      "Cost: 0.0, Accuracy: 0.979700148106\n",
      "Cost: 0.0, Accuracy: 0.978500068188\n",
      "Cost: 0.0, Accuracy: 0.980200171471\n",
      "Cost: 0.0, Accuracy: 0.978900134563\n",
      "Cost: 0.0, Accuracy: 0.979700088501\n",
      "Cost: 19.9608154297, Accuracy: 0.981100082397\n",
      "Cost: 0.0, Accuracy: 0.978500127792\n",
      "Cost: 0.0, Accuracy: 0.979200124741\n",
      "Cost: 0.0, Accuracy: 0.97880011797\n"
     ]
    }
   ],
   "source": [
    "with tf.Session() as sess:\n",
    "    sess.run(init)\n",
    "    for ep in range(50):\n",
    "        for b in range(n_batches):\n",
    "            b_images, b_labels = mnist.train.next_batch(batch_size)\n",
    "            _, c = sess.run([optimiser, cost], feed_dict={X:b_images, Y:b_labels})\n",
    "        acc = sess.run(accuracy, feed_dict={X: mnist.test.images, Y: mnist.test.labels})\n",
    "        print \"Cost: {}, Accuracy: {}\".format(c, acc)\n",
    "        \n",
    "        \n",
    "        \n",
    "        \n",
    "        "
   ]
  },
  {
   "cell_type": "markdown",
   "metadata": {
    "collapsed": true
   },
   "source": [
    "We can see that this code does better than before, achieving almost 98%."
   ]
  }
 ],
 "metadata": {
  "kernelspec": {
   "display_name": "Python [Root]",
   "language": "python",
   "name": "Python [Root]"
  },
  "language_info": {
   "codemirror_mode": {
    "name": "ipython",
    "version": 2
   },
   "file_extension": ".py",
   "mimetype": "text/x-python",
   "name": "python",
   "nbconvert_exporter": "python",
   "pygments_lexer": "ipython2",
   "version": "2.7.12"
  }
 },
 "nbformat": 4,
 "nbformat_minor": 0
}
